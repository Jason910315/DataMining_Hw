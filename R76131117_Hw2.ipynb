{
 "cells": [
  {
   "cell_type": "code",
   "execution_count": 3,
   "metadata": {},
   "outputs": [],
   "source": [
    "import csv\n",
    "from math import sqrt\n",
    "from math import log2\n",
    "from math import log\n",
    "from collections import Counter"
   ]
  },
  {
   "cell_type": "code",
   "execution_count": 4,
   "metadata": {},
   "outputs": [],
   "source": [
    "# 讀取 txt 檔案\n",
    "def load_data(file_path):\n",
    "    with open(file_path, 'r', encoding='utf-8') as file:\n",
    "        reader = csv.reader(file)\n",
    "        data = [row for row in reader]\n",
    "    return data\n",
    "# 讀取資料\n",
    "data = load_data('glass.txt')"
   ]
  },
  {
   "cell_type": "code",
   "execution_count": 18,
   "metadata": {},
   "outputs": [],
   "source": [
    "# 定義欄位名稱\n",
    "columns = [\"Id\",\"RI\",\"Na\",\"Mg\",\"Al\",\"Si\",\"K\",\"Ca\",\"Ba\",\"Fe\",\"class\"]\n",
    "# 轉換成字典\n",
    "df = [dict(zip(columns, row)) for row in data]"
   ]
  },
  {
   "cell_type": "code",
   "execution_count": 19,
   "metadata": {},
   "outputs": [
    {
     "data": {
      "text/plain": [
       "['RI', 'Na', 'Mg', 'Al', 'Si', 'K', 'Ca', 'Ba', 'Fe']"
      ]
     },
     "execution_count": 19,
     "metadata": {},
     "output_type": "execute_result"
    }
   ],
   "source": [
    "X = columns.copy()\n",
    "X.remove(\"Id\")\n",
    "X.remove(\"class\")\n",
    "y = 'class'\n",
    "X"
   ]
  },
  {
   "cell_type": "code",
   "execution_count": null,
   "metadata": {},
   "outputs": [
    {
     "name": "stdout",
     "output_type": "stream",
     "text": [
      "RI with equal width discretization => width = 0.0022780000000000022\n",
      "bin1: 1.51115 <= x < 1.513428\n",
      "bin2: 1.513428 <= x < 1.515706\n",
      "bin3: 1.515706 <= x < 1.517984\n",
      "bin4: 1.517984 <= x < 1.520262\n",
      "bin5: 1.520262 <= x < 1.52254\n",
      "bin6: 1.52254 <= x < 1.524818\n",
      "bin7: 1.524818 <= x < 1.527096\n",
      "bin8: 1.527096 <= x < 1.529374\n",
      "bin9: 1.529374 <= x < 1.531652\n",
      "bin10: 1.531652 <= x <= 1.53393\n",
      "The split results for the first five RI attribute values:\n",
      "1.52101: 5\n",
      "1.51761: 3\n",
      "1.51618: 3\n",
      "1.51766: 3\n",
      "1.51742: 3\n",
      "1.51596: 3\n"
     ]
    }
   ],
   "source": [
    "def equal_width(df,feature,bin_num):\n",
    "    # 計算每組 bin 區間\n",
    "    att_value = [row[feature] for row in df]\n",
    "    max_value = float(max(att_value))\n",
    "    min_value = float(min(att_value))\n",
    "    width = (max_value - min_value) / bin_num\n",
    "    bins = []\n",
    "    for i in range(bin_num):\n",
    "        start = min_value + i * width\n",
    "        end = start + width\n",
    "        bins.append((start,end))  # 可調整精度\n",
    "    print(f'{feature} with equal width discretization => width = {width}')\n",
    "    for i, (start, end) in enumerate(bins):\n",
    "        if i == bin_num - 1:\n",
    "            print(f'bin{i + 1}: {start} <= x <= {end}')\n",
    "            break\n",
    "        print(f'bin{i + 1}: {start} <= x < {end}')\n",
    "    # 切割 attribute value\n",
    "    split_res = {}\n",
    "    for value in att_value:\n",
    "        value = float(value)\n",
    "        for i, (start, end) in enumerate(bins):\n",
    "            if i != bin_num - 1:\n",
    "                if value >= start and value < end:\n",
    "                    split_res[value] = i + 1\n",
    "            else:\n",
    "                if value >= start and value <= end:\n",
    "                    split_res[value] = i + 1\n",
    "    return split_res\n",
    "\n",
    "RI_split = equal_width(df,'RI',10)\n",
    "print(\"The split results for the first five RI attribute values:\")\n",
    "for i, (key, value) in enumerate(RI_split.items()):\n",
    "    if i > 5:\n",
    "        break\n",
    "    print(f\"{key}: {value}\")"
   ]
  },
  {
   "cell_type": "code",
   "execution_count": 85,
   "metadata": {},
   "outputs": [
    {
     "name": "stdout",
     "output_type": "stream",
     "text": [
      "21\n",
      "Na with equal frequency discretization =>\n",
      "The number of value in each frequency:\n",
      "1 21\n",
      "2 13\n",
      "3 13\n",
      "4 11\n",
      "5 11\n",
      "6 14\n",
      "7 18\n",
      "8 17\n",
      "9 18\n"
     ]
    }
   ],
   "source": [
    "def equal_frequency(df,feature,bin_num):\n",
    "    bin_cnt = len(df) // bin_num\n",
    "    print(bin_cnt)\n",
    "    att_value = sorted([float(row[feature]) for row in df])\n",
    "    split_res = {}\n",
    "    bin_index = 1\n",
    "    cur_bin_cnt = 0\n",
    "    for i,value in enumerate(att_value):\n",
    "        if cur_bin_cnt > bin_cnt and bin_index <= bin_num:\n",
    "            if i + 1 < len(df) and value != att_value[i + 1]:\n",
    "                bin_index += 1\n",
    "                cur_bin_cnt = 0\n",
    "        else:\n",
    "            split_res[value] = bin_index\n",
    "            cur_bin_cnt += 1\n",
    "    print(f'{feature} with equal frequency discretization =>')\n",
    "    print(f'The number of value in each frequency:')\n",
    "    fre = Counter(split_res.values())\n",
    "    for key,count in fre.items():\n",
    "        print(key,count)\n",
    "\n",
    "equal_frequency(df,'Na',10)"
   ]
  },
  {
   "cell_type": "code",
   "execution_count": null,
   "metadata": {},
   "outputs": [],
   "source": [
    "fre = Counter(split_res.values())\n",
    "for key,count in fre.items():\n",
    "    print(key,count)\n"
   ]
  }
 ],
 "metadata": {
  "kernelspec": {
   "display_name": "Python 3",
   "language": "python",
   "name": "python3"
  },
  "language_info": {
   "codemirror_mode": {
    "name": "ipython",
    "version": 3
   },
   "file_extension": ".py",
   "mimetype": "text/x-python",
   "name": "python",
   "nbconvert_exporter": "python",
   "pygments_lexer": "ipython3",
   "version": "3.13.1"
  }
 },
 "nbformat": 4,
 "nbformat_minor": 2
}
