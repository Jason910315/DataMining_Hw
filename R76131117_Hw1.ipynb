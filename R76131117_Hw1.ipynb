{
 "cells": [
  {
   "cell_type": "code",
   "execution_count": 22,
   "metadata": {},
   "outputs": [],
   "source": [
    "import csv\n",
    "from math import sqrt\n",
    "from math import log2\n",
    "from math import log\n",
    "from collections import Counter"
   ]
  },
  {
   "cell_type": "code",
   "execution_count": 23,
   "metadata": {},
   "outputs": [],
   "source": [
    "# 讀取 txt 檔案\n",
    "def load_data(file_path):\n",
    "    with open(file_path, 'r', encoding='utf-8') as file:\n",
    "        reader = csv.reader(file)\n",
    "        data = [row for row in reader]\n",
    "    return data\n",
    "# 讀取資料\n",
    "data = load_data('breast-cancer.txt')"
   ]
  },
  {
   "cell_type": "code",
   "execution_count": 24,
   "metadata": {},
   "outputs": [
    {
     "data": {
      "text/plain": [
       "[{'age': \"'40-49'\",\n",
       "  'menopause': \"'premeno'\",\n",
       "  'tumor_size': \"'15-19'\",\n",
       "  'inv_nodes': \"'0-2'\",\n",
       "  'node_caps': \"'yes'\",\n",
       "  'deg_malig': \"'3'\",\n",
       "  'breast': \"'right'\",\n",
       "  'breast_quad': \"'left_up'\",\n",
       "  'irradiat': \"'no'\",\n",
       "  'class': \"'recurrence-events'\"},\n",
       " {'age': \"'50-59'\",\n",
       "  'menopause': \"'ge40'\",\n",
       "  'tumor_size': \"'15-19'\",\n",
       "  'inv_nodes': \"'0-2'\",\n",
       "  'node_caps': \"'no'\",\n",
       "  'deg_malig': \"'1'\",\n",
       "  'breast': \"'right'\",\n",
       "  'breast_quad': \"'central'\",\n",
       "  'irradiat': \"'no'\",\n",
       "  'class': \"'no-recurrence-events'\"}]"
      ]
     },
     "execution_count": 24,
     "metadata": {},
     "output_type": "execute_result"
    }
   ],
   "source": [
    "# 定義欄位名稱\n",
    "columns = [\"age\", \"menopause\", \"tumor_size\", \"inv_nodes\", \"node_caps\", \n",
    "           \"deg_malig\", \"breast\", \"breast_quad\", \"irradiat\", \"class\"]\n",
    "# 轉換成字典\n",
    "df = [dict(zip(columns, row)) for row in data]\n",
    "df[0:2]"
   ]
  },
  {
   "cell_type": "markdown",
   "metadata": {},
   "source": [
    "### 定義各式計算公式"
   ]
  },
  {
   "cell_type": "code",
   "execution_count": 25,
   "metadata": {},
   "outputs": [],
   "source": [
    "# 計算 feature entropy\n",
    "def entropy(df,feature):  \n",
    "    attribute_value = [row[feature] for row in df]  # 抓取特定 feature 的所有值 \n",
    "    value_count = Counter(attribute_value)          # 計算所有可能值的個數\n",
    "    total = len(df)\n",
    "    prob = [count / total for key,count in value_count.items()]  # 計算每個 attribute_value 的機率\n",
    "    return -sum(p * log2(p) for p in prob) \n",
    "    \n",
    "# 計算特徵 X、Y 間的 Mutual Information\n",
    "def mutual_information(df,X, Y):\n",
    "    # 計算 X 和 Y 的熵\n",
    "    H_X = entropy(df,X)\n",
    "    H_Y = entropy(df,Y)\n",
    "    # 計算 X 和 Y 的聯合機率\n",
    "    joint_counts = Counter((row[X], row[Y]) for row in df)  # 計算 X、Y 一起出現的次數\n",
    "    total = len(df)\n",
    "    joint_prob = [count / total for key,count in joint_counts.items()]\n",
    "    H_X_Y = -sum(p * log2(p) for p in joint_prob)\n",
    "    return H_X + H_Y - H_X_Y\n",
    "    \n",
    "# 計算特徵 X、Y 的 symmetric uncertainty\n",
    "def cal_su(df,X,Y):\n",
    "    H_X = entropy(df,X)\n",
    "    H_Y = entropy(df,Y)\n",
    "    return 2 * (mutual_information(df,X,Y) / (H_X + H_Y))\n",
    "\n",
    "# 計算選取的特徵子集對於類別預測的 Goodness\n",
    "def Goodness(df,feature_subset,label):\n",
    "    su_X_C = 0\n",
    "    sum_su_X_Y = 0  \n",
    "    # 計算 feature_subset 內所有特徵對於類別值的 Symmetric uncertainty\n",
    "    su_X_C = sum(cal_su(df,X,label) for X in feature_subset)\n",
    "    \n",
    "    # 計算 feature_subset 內所有兩兩特徵間的 Symmetric uncertainty\n",
    "    for feature_i in feature_subset:\n",
    "        for feature_j in feature_subset:\n",
    "            sum_su_X_Y += cal_su(df,feature_i,feature_j)\n",
    "    return su_X_C / sqrt(sum_su_X_Y)\n"
   ]
  },
  {
   "cell_type": "code",
   "execution_count": 26,
   "metadata": {},
   "outputs": [],
   "source": [
    "# 定義資料集 attribute 欄位\n",
    "X = columns.copy()\n",
    "X.remove('class')\n",
    "# 定義類別欄位\n",
    "Y = 'class'"
   ]
  },
  {
   "cell_type": "markdown",
   "metadata": {},
   "source": [
    "### forward selection"
   ]
  },
  {
   "cell_type": "code",
   "execution_count": null,
   "metadata": {},
   "outputs": [],
   "source": [
    "# X 代表資料集的特徵集合，y 則是類別值\n",
    "# forward_selection 函式會決定最後 Goodness 最優的 feature subset\n",
    "\n",
    "def forward_selection(df, X, y):\n",
    "    select_features = []    # 儲存每回最優的 feature subset\n",
    "    best_score = 0.0        # 每一列 feature subset 中最優的 Goodness\n",
    "    remaining_features = X.copy()  # 還未被選定的 features\n",
    "    # 持續檢查直到沒有可以選擇的 feature\n",
    "    i = 1   # 紀錄 foward selection 到第幾輪 \n",
    "    while(len(remaining_features) > 0):\n",
    "        scores = []  # 儲存這一列中每個 subset 的 Goodness\n",
    "        for feature in remaining_features:\n",
    "            # temp_features 暫存此次循環的特徵組合 => 上回以選取好的最佳組合 select_features + 這回新選入的一個 feature\n",
    "            temp_features = select_features + [feature]\n",
    "            score = Goodness(df,temp_features,y)\n",
    "            # (目前的特徵組合, 新選進來的特徵, 此特徵組合的 Goodness)\n",
    "            scores.append((temp_features,feature,score))\n",
    "\n",
    "        # 依照 Goodness 排序\n",
    "        scores.sort(key=lambda x: x[2], reverse = True)  \n",
    "        best_new_score = float(scores[0][2])   # 這一輪特徵組合中最優的 Goodness\n",
    "\n",
    "        if(best_new_score > best_score):\n",
    "            best_score = best_new_score\n",
    "            select_features = scores[0][0]  # 更新成 Goodness 最優的 subset\n",
    "            if scores[0][1] in remaining_features:\n",
    "                remaining_features.remove(scores[0][1])  # 移除新選特徵\n",
    "            print(f\"Pass{i}: best_feature_subset = {select_features} , Goodness = {best_score}\")\n",
    "            i += 1\n",
    "        # 此輪中所有 feature_subset 的表現皆不如上一輪，Stop\n",
    "        else:\n",
    "            break\n",
    "    print(f\"\\nFinal select features: {select_features}, Goodness = {best_score}\")\n",
    "    return select_features,best_score"
   ]
  },
  {
   "cell_type": "code",
   "execution_count": 28,
   "metadata": {},
   "outputs": [
    {
     "name": "stdout",
     "output_type": "stream",
     "text": [
      "Pass1: best_feature_subset = ['inv_nodes'] , Goodness = 0.07664021945356746\n",
      "Pass2: best_feature_subset = ['inv_nodes', 'deg_malig'] , Goodness = 0.10145042616557834\n",
      "Pass3: best_feature_subset = ['inv_nodes', 'deg_malig', 'node_caps'] , Goodness = 0.10948734827994715\n",
      "Pass4: best_feature_subset = ['inv_nodes', 'deg_malig', 'node_caps', 'irradiat'] , Goodness = 0.11169589476594623\n",
      "Pass5: best_feature_subset = ['inv_nodes', 'deg_malig', 'node_caps', 'irradiat', 'tumor_size'] , Goodness = 0.11218633643681937\n",
      "\n",
      "Final select features: ['inv_nodes', 'deg_malig', 'node_caps', 'irradiat', 'tumor_size'], Goodness = 0.11218633643681937\n"
     ]
    },
    {
     "data": {
      "text/plain": [
       "(['inv_nodes', 'deg_malig', 'node_caps', 'irradiat', 'tumor_size'],\n",
       " 0.11218633643681937)"
      ]
     },
     "execution_count": 28,
     "metadata": {},
     "output_type": "execute_result"
    }
   ],
   "source": [
    "forward_selection(df,X,Y)"
   ]
  },
  {
   "cell_type": "markdown",
   "metadata": {},
   "source": [
    "### backward_selection"
   ]
  },
  {
   "cell_type": "code",
   "execution_count": 29,
   "metadata": {},
   "outputs": [],
   "source": [
    "def backward_selection(df, X, y):\n",
    "    select_features = X     # 一開始是選擇所有 attributes  \n",
    "    best_score = 0.0        # 每一列 feature subset 中最優的 Goodness\n",
    "    i = 1\n",
    "    # 持續檢查到選擇的 feature 只剩下一個\n",
    "    while(len(select_features) > 1):\n",
    "        scores = []  # 儲存這一列中每個 subset 的 Goodness\n",
    "        for feature in select_features:\n",
    "            temp_features = select_features.copy()\n",
    "            # 每次移除一個 feature\n",
    "            temp_features.remove(feature)\n",
    "            score = Goodness(df,temp_features,y)\n",
    "            # (目前的特徵組合, 移除的特徵, 此特徵組合的 Goodness)\n",
    "            scores.append((temp_features,feature,score))\n",
    "\n",
    "        scores.sort(key = lambda x: x[2], reverse = True)  \n",
    "        best_new_score = float(scores[0][2])   # 這一輪特徵組合中最優的 Goodness\n",
    "        # 代表移除該特徵後 Goodness 更好\n",
    "        if(best_new_score > best_score):\n",
    "            best_score = best_new_score\n",
    "            select_features = scores[0][0]  # 更新成 Goodness 最優的 subset\n",
    "            if scores[0][1] in select_features:\n",
    "                select_features.remove(scores[0][1])  # 移除特徵\n",
    "            print(f\"Pass{i}: best_feature_subset = {select_features} , Goodness = {best_score}\")\n",
    "            print(f\"\\nremove feature: {scores[0][1]}\\n\")\n",
    "            i += 1\n",
    "        # 此輪中所有 feature_subset 的表現皆不如上一輪，Stop\n",
    "        else:\n",
    "            break\n",
    "    print(f\"\\nFinal select features: {select_features}, Goodness = {best_score}\")\n",
    "    return select_features,best_score"
   ]
  },
  {
   "cell_type": "code",
   "execution_count": 30,
   "metadata": {},
   "outputs": [
    {
     "name": "stdout",
     "output_type": "stream",
     "text": [
      "Pass1: best_feature_subset = ['age', 'menopause', 'tumor_size', 'inv_nodes', 'node_caps', 'deg_malig', 'breast_quad', 'irradiat'] , Goodness = 0.09719419884125785\n",
      "\n",
      "remove feature: breast\n",
      "\n",
      "Pass2: best_feature_subset = ['age', 'tumor_size', 'inv_nodes', 'node_caps', 'deg_malig', 'breast_quad', 'irradiat'] , Goodness = 0.10245371563812918\n",
      "\n",
      "remove feature: menopause\n",
      "\n",
      "Pass3: best_feature_subset = ['age', 'tumor_size', 'inv_nodes', 'node_caps', 'deg_malig', 'irradiat'] , Goodness = 0.10821070155745492\n",
      "\n",
      "remove feature: breast_quad\n",
      "\n",
      "Pass4: best_feature_subset = ['tumor_size', 'inv_nodes', 'node_caps', 'deg_malig', 'irradiat'] , Goodness = 0.11218633643681936\n",
      "\n",
      "remove feature: age\n",
      "\n",
      "\n",
      "Final select features: ['tumor_size', 'inv_nodes', 'node_caps', 'deg_malig', 'irradiat'], Goodness = 0.11218633643681936\n"
     ]
    },
    {
     "data": {
      "text/plain": [
       "(['tumor_size', 'inv_nodes', 'node_caps', 'deg_malig', 'irradiat'],\n",
       " 0.11218633643681936)"
      ]
     },
     "execution_count": 30,
     "metadata": {},
     "output_type": "execute_result"
    }
   ],
   "source": [
    "backward_selection(df,X,Y)"
   ]
  }
 ],
 "metadata": {
  "kernelspec": {
   "display_name": "Python 3",
   "language": "python",
   "name": "python3"
  },
  "language_info": {
   "codemirror_mode": {
    "name": "ipython",
    "version": 3
   },
   "file_extension": ".py",
   "mimetype": "text/x-python",
   "name": "python",
   "nbconvert_exporter": "python",
   "pygments_lexer": "ipython3",
   "version": "3.13.1"
  }
 },
 "nbformat": 4,
 "nbformat_minor": 2
}
