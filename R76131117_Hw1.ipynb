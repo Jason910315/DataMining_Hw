{
 "cells": [
  {
   "cell_type": "code",
   "execution_count": 107,
   "metadata": {},
   "outputs": [],
   "source": [
    "import csv\n",
    "from math import sqrt\n",
    "from math import log2\n",
    "from math import log\n",
    "from collections import Counter"
   ]
  },
  {
   "cell_type": "code",
   "execution_count": 97,
   "metadata": {},
   "outputs": [],
   "source": [
    "# 讀取 txt 檔案\n",
    "def load_csv(file_path):\n",
    "    with open(file_path, 'r', encoding='utf-8') as file:\n",
    "        reader = csv.reader(file)\n",
    "        data = [row for row in reader]\n",
    "    return data\n",
    "# 讀取資料\n",
    "data = load_csv('breast-cancer.txt')"
   ]
  },
  {
   "cell_type": "code",
   "execution_count": 263,
   "metadata": {},
   "outputs": [
    {
     "data": {
      "text/plain": [
       "[{'age': \"'40-49'\",\n",
       "  'menopause': \"'premeno'\",\n",
       "  'tumor_size': \"'15-19'\",\n",
       "  'inv_nodes': \"'0-2'\",\n",
       "  'node_caps': \"'yes'\",\n",
       "  'deg_malig': \"'3'\",\n",
       "  'breast': \"'right'\",\n",
       "  'breast_quad': \"'left_up'\",\n",
       "  'irradiat': \"'no'\",\n",
       "  'class': \"'recurrence-events'\"},\n",
       " {'age': \"'50-59'\",\n",
       "  'menopause': \"'ge40'\",\n",
       "  'tumor_size': \"'15-19'\",\n",
       "  'inv_nodes': \"'0-2'\",\n",
       "  'node_caps': \"'no'\",\n",
       "  'deg_malig': \"'1'\",\n",
       "  'breast': \"'right'\",\n",
       "  'breast_quad': \"'central'\",\n",
       "  'irradiat': \"'no'\",\n",
       "  'class': \"'no-recurrence-events'\"}]"
      ]
     },
     "execution_count": 263,
     "metadata": {},
     "output_type": "execute_result"
    }
   ],
   "source": [
    "0# 定義欄位名稱\n",
    "columns = [\"age\", \"menopause\", \"tumor_size\", \"inv_nodes\", \"node_caps\", \n",
    "           \"deg_malig\", \"breast\", \"breast_quad\", \"irradiat\", \"class\"]\n",
    "# 轉換成字典\n",
    "df = [dict(zip(columns, row)) for row in data]\n",
    "df[0:2]"
   ]
  },
  {
   "cell_type": "code",
   "execution_count": null,
   "metadata": {},
   "outputs": [
    {
     "name": "stdout",
     "output_type": "stream",
     "text": [
      "Counter({\"'50-59'\": 91, \"'40-49'\": 89, \"'60-69'\": 55, \"'30-39'\": 36, \"'70-79'\": 5, \"'20-29'\": 1})\n",
      "dict_items([(\"'40-49'\", 89), (\"'50-59'\", 91), (\"'60-69'\", 55), (\"'30-39'\", 36), (\"'70-79'\", 5), (\"'20-29'\", 1)])\n"
     ]
    },
    {
     "data": {
      "text/plain": [
       "[0.3212996389891697,\n",
       " 0.3285198555956679,\n",
       " 0.19855595667870035,\n",
       " 0.1299638989169675,\n",
       " 0.018050541516245487,\n",
       " 0.0036101083032490976]"
      ]
     },
     "execution_count": 94,
     "metadata": {},
     "output_type": "execute_result"
    }
   ],
   "source": [
    "# 定義欄位名稱\n",
    "columns = [\"age\", \"menopause\", \"tumor_size\", \"inv_nodes\", \"node_caps\", \n",
    "           \"deg_malig\", \"breast\", \"breast_quad\", \"irradiat\", \"class\"]\n",
    "# 轉換成字典\n",
    "structured_data = [dict(zip(columns, row)) for row in data]\n",
    "\n",
    "column = [row['age'] for row in structured_data]\n",
    "\n",
    "count = Counter(column)\n",
    "print(count)\n",
    "total = len(column)\n",
    "print(count.items())\n",
    "prob = [count_value / total for key,count_value in count.items()]\n",
    "prob"
   ]
  },
  {
   "cell_type": "code",
   "execution_count": 264,
   "metadata": {},
   "outputs": [],
   "source": [
    "# 計算 feature entropy\n",
    "def entropy(df,feature):  \n",
    "    attribute_value = [row[feature] for row in df]  # 抓取特定 feature 的所有值 \n",
    "    value_count = Counter(attribute_value)          # 計算所有可能值的個數\n",
    "    total = len(df)\n",
    "    prob = [count / total for key,count in value_count.items()]  # 計算每個 attribute_value 的機率\n",
    "    return -sum(p * log2(p) for p in prob) \n",
    "    \n",
    "# 計算特徵 X、Y 間的 Mutual Information\n",
    "def mutual_information(df,X, Y):\n",
    "    # 計算 X 和 Y 的熵\n",
    "    H_X = entropy(df,X)\n",
    "    H_Y = entropy(df,Y)\n",
    "    # 計算 X 和 Y 的聯合機率\n",
    "    joint_counts = Counter((row[X], row[Y]) for row in df)  # 計算 X、Y 一起出現的次數\n",
    "    total = len(df)\n",
    "    joint_prob = [count / total for key,count in joint_counts.items()]\n",
    "    H_X_Y = -sum(p * log2(p) for p in joint_prob)\n",
    "    return H_X + H_Y - H_X_Y\n",
    "    \n",
    "# 計算特徵 X、Y 的 symmetric uncertainty\n",
    "def cal_su(df,X,Y):\n",
    "    H_X = entropy(df,X)\n",
    "    H_Y = entropy(df,Y)\n",
    "    return 2 * (mutual_information(df,X,Y) / (H_X + H_Y))\n",
    "\n",
    "# 計算選取的特徵子集對於類別預測的 Goodness\n",
    "def Goodness(df,feature_subset,label):\n",
    "    su_X_C = 0\n",
    "    sum_su_X_Y = 0  \n",
    "    # 計算 feature_subset 內所有特徵對於類別值的 Symmetric uncertainty\n",
    "    su_X_C = sum(cal_su(df,X,label) for X in feature_subset)\n",
    "    \n",
    "    # 計算 feature_subset 內所有兩兩特徵間的 Symmetric uncertainty\n",
    "    for feature_i in feature_subset:\n",
    "        for feature_j in feature_subset:\n",
    "            sum_su_X_Y += cal_su(df,feature_i,feature_j)\n",
    "    return su_X_C / sqrt(sum_su_X_Y)\n"
   ]
  },
  {
   "cell_type": "code",
   "execution_count": 267,
   "metadata": {},
   "outputs": [],
   "source": [
    "X = columns.copy()\n",
    "X.remove('class')\n",
    "Y = 'class'"
   ]
  },
  {
   "cell_type": "markdown",
   "metadata": {},
   "source": [
    "### forward selection"
   ]
  },
  {
   "cell_type": "code",
   "execution_count": 268,
   "metadata": {},
   "outputs": [],
   "source": [
    "# X 代表資料集的特徵集合，y 則是類別值\n",
    "# forward selection 為由空集合開始，由上而下做特徵選取，觀察每個組合的 Goodness 值，再決定停止或繼續\n",
    "# forward_selection 函式會決定最後 Goodness 最優的 feature subset\n",
    "\n",
    "def forward_selection(df, X, y):\n",
    "    select_features = []  # 儲存每回最優的 feature subset\n",
    "    best_score = 0.0        # 每一列 feature subset 中最優的 Goodness\n",
    "    remaining_features = X.copy()  # 還未被選定的 features\n",
    "    # 持續檢查直到沒有可以選擇的 feature\n",
    "    while(len(remaining_features) > 0):\n",
    "        scores = []  # 儲存這一列中每個 subset 的 Goodness\n",
    "        for feature in remaining_features:\n",
    "            # temp_features 暫存此次循環的特徵組合 => 上回以選取好的最佳組合 select_features + 這回新選入的一個 feature\n",
    "            temp_features = select_features + [feature]\n",
    "            score = Goodness(df,temp_features,y)\n",
    "            # (目前的特徵組合, 新選進來的特徵, 此特徵組合的 Goodness)\n",
    "            scores.append((temp_features,feature,score))\n",
    "\n",
    "        scores.sort(key=lambda x: x[2], reverse = True)  \n",
    "        best_new_score = float(scores[0][2])   # 這一輪特徵組合中最優的 Goodness\n",
    "\n",
    "        if(best_new_score > best_score):\n",
    "            best_score = best_new_score\n",
    "            select_features = scores[0][0]  # 更新成 Goodness 最優的 subset\n",
    "            if scores[0][1] in remaining_features:\n",
    "                remaining_features.remove(scores[0][1])  # 移除已選特徵\n",
    "            print(f\"best_feature_subset: {select_features} , Goodness: {best_score}\")\n",
    "\n",
    "        # 此輪中所有 feature_subset 的表現皆不如上一輪，Stop\n",
    "        else:\n",
    "            break\n",
    "    return select_features,best_score"
   ]
  },
  {
   "cell_type": "code",
   "execution_count": 269,
   "metadata": {},
   "outputs": [
    {
     "name": "stdout",
     "output_type": "stream",
     "text": [
      "best_feature_subset: ['inv_nodes'] , Goodness: 0.07664021945356746\n",
      "best_feature_subset: ['inv_nodes', 'deg_malig'] , Goodness: 0.10145042616557834\n",
      "best_feature_subset: ['inv_nodes', 'deg_malig', 'node_caps'] , Goodness: 0.10948734827994715\n",
      "best_feature_subset: ['inv_nodes', 'deg_malig', 'node_caps', 'irradiat'] , Goodness: 0.11169589476594623\n",
      "best_feature_subset: ['inv_nodes', 'deg_malig', 'node_caps', 'irradiat', 'tumor_size'] , Goodness: 0.11218633643681937\n"
     ]
    },
    {
     "data": {
      "text/plain": [
       "(['inv_nodes', 'deg_malig', 'node_caps', 'irradiat', 'tumor_size'],\n",
       " 0.11218633643681937)"
      ]
     },
     "execution_count": 269,
     "metadata": {},
     "output_type": "execute_result"
    }
   ],
   "source": [
    "forward_selection(df,X,Y)"
   ]
  },
  {
   "cell_type": "markdown",
   "metadata": {},
   "source": [
    "### backward_selection"
   ]
  },
  {
   "cell_type": "code",
   "execution_count": 270,
   "metadata": {},
   "outputs": [],
   "source": [
    "def backward_selection(df, X, y):\n",
    "    select_features = X    \n",
    "    best_score = 0.0        # 每一列 feature subset 中最優的 Goodness\n",
    "    # 持續檢查直到沒有可以選擇的 feature\n",
    "    while(len(select_features) > 1):\n",
    "        scores = []  # 儲存這一列中每個 subset 的 Goodness\n",
    "        for feature in select_features:\n",
    "            temp_features = select_features.copy()\n",
    "            # temp_features 暫存此次循環的特徵組合 => 上回以選取好的最佳組合 select_features + 這回新選入的一個 feature\n",
    "            temp_features.remove(feature)\n",
    "            score = Goodness(df,temp_features,y)\n",
    "            # (目前的特徵組合, 新選進來的特徵, 此特徵組合的 Goodness)\n",
    "            scores.append((temp_features,feature,score))\n",
    "\n",
    "        scores.sort(key = lambda x: x[2], reverse = True)  \n",
    "        best_new_score = float(scores[0][2])   # 這一輪特徵組合中最優的 Goodness\n",
    "\n",
    "        if(best_new_score > best_score):\n",
    "            best_score = best_new_score\n",
    "            select_features = scores[0][0]  # 更新成 Goodness 最優的 subset\n",
    "            if scores[0][1] in select_features:\n",
    "                select_features.remove(scores[0][1])  # 移除已選特徵\n",
    "            print(f\"best_feature_subset: {select_features} , Goodness: {best_score}\")\n",
    "\n",
    "        # 此輪中所有 feature_subset 的表現皆不如上一輪，Stop\n",
    "        else:\n",
    "            break\n",
    "    return select_features,best_score"
   ]
  },
  {
   "cell_type": "code",
   "execution_count": 271,
   "metadata": {},
   "outputs": [
    {
     "name": "stdout",
     "output_type": "stream",
     "text": [
      "best_feature_subset: ['age', 'menopause', 'tumor_size', 'inv_nodes', 'node_caps', 'deg_malig', 'breast_quad', 'irradiat'] , Goodness: 0.09719419884125785\n",
      "best_feature_subset: ['age', 'tumor_size', 'inv_nodes', 'node_caps', 'deg_malig', 'breast_quad', 'irradiat'] , Goodness: 0.10245371563812918\n",
      "best_feature_subset: ['age', 'tumor_size', 'inv_nodes', 'node_caps', 'deg_malig', 'irradiat'] , Goodness: 0.10821070155745492\n",
      "best_feature_subset: ['tumor_size', 'inv_nodes', 'node_caps', 'deg_malig', 'irradiat'] , Goodness: 0.11218633643681936\n"
     ]
    },
    {
     "data": {
      "text/plain": [
       "(['tumor_size', 'inv_nodes', 'node_caps', 'deg_malig', 'irradiat'],\n",
       " 0.11218633643681936)"
      ]
     },
     "execution_count": 271,
     "metadata": {},
     "output_type": "execute_result"
    }
   ],
   "source": [
    "backward_selection(df,X,Y)"
   ]
  }
 ],
 "metadata": {
  "kernelspec": {
   "display_name": "Python 3",
   "language": "python",
   "name": "python3"
  },
  "language_info": {
   "codemirror_mode": {
    "name": "ipython",
    "version": 3
   },
   "file_extension": ".py",
   "mimetype": "text/x-python",
   "name": "python",
   "nbconvert_exporter": "python",
   "pygments_lexer": "ipython3",
   "version": "3.13.2"
  }
 },
 "nbformat": 4,
 "nbformat_minor": 2
}
